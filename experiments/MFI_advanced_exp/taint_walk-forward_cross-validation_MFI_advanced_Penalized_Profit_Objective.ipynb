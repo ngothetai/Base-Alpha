{
 "cells": [
  {
   "cell_type": "code",
   "execution_count": 1,
   "metadata": {},
   "outputs": [],
   "source": [
    "import sys\n",
    "import os\n",
    "# Update content of packages when has changes in jupyter\n",
    "%load_ext autoreload\n",
    "%autoreload 2\n",
    "\n",
    "# set path of this project to sys.path\n",
    "sys.path.append(os.path.join(os.getcwd(), \"../../..\"))\n",
    "from Baseline.forward_searcher import WalkForwardSearcher\n",
    "from Baseline.experiments.MFI_advanced_exp.alpha_MFI_advanced import EnhancedMFIAlpha\n",
    "import pandas as pd"
   ]
  },
  {
   "cell_type": "code",
   "execution_count": 2,
   "metadata": {},
   "outputs": [
    {
     "name": "stderr",
     "output_type": "stream",
     "text": [
      "[I 2024-11-08 17:43:27,946] A new study created in memory with name: no-name-2a162e9c-90ef-40dd-9aa6-72e5f8ad8a83\n"
     ]
    },
    {
     "name": "stdout",
     "output_type": "stream",
     "text": [
      "\n",
      "Optimizing window starting at 2017-08-10 09:16:00\n"
     ]
    },
    {
     "name": "stderr",
     "output_type": "stream",
     "text": [
      "100%|██████████| 58823/58823 [00:42<00:00, 1399.71it/s]\n",
      "[I 2024-11-08 17:44:12,470] Trial 0 finished with value: -17546.020070491802 and parameters: {'mfi_period': 10, 'mfi_upper': 54, 'mfi_lower': 22, 'roc_period': 14, 'ma_short': 15, 'ma_long': 42, 'atr_period': 16, 'atr_multiplier': 2.5296762336411267}. Best is trial 0 with value: -17546.020070491802.\n",
      "100%|██████████| 58823/58823 [00:42<00:00, 1381.54it/s]\n",
      "[I 2024-11-08 17:44:57,674] Trial 1 finished with value: -49.18828879781421 and parameters: {'mfi_period': 10, 'mfi_upper': 77, 'mfi_lower': 5, 'roc_period': 15, 'ma_short': 20, 'ma_long': 48, 'atr_period': 15, 'atr_multiplier': 1.6259754626263843}. Best is trial 1 with value: -49.18828879781421.\n",
      "100%|██████████| 58823/58823 [00:42<00:00, 1390.01it/s]\n",
      "[I 2024-11-08 17:45:42,493] Trial 2 finished with value: -447.36862377049187 and parameters: {'mfi_period': 17, 'mfi_upper': 60, 'mfi_lower': 18, 'roc_period': 13, 'ma_short': 19, 'ma_long': 51, 'atr_period': 14, 'atr_multiplier': 1.9218613823898294}. Best is trial 1 with value: -49.18828879781421.\n",
      "100%|██████████| 58823/58823 [00:42<00:00, 1376.54it/s]\n",
      "[I 2024-11-08 17:46:27,853] Trial 3 finished with value: -101.75770491803279 and parameters: {'mfi_period': 12, 'mfi_upper': 63, 'mfi_lower': 5, 'roc_period': 14, 'ma_short': 18, 'ma_long': 40, 'atr_period': 15, 'atr_multiplier': 1.795725921841745}. Best is trial 1 with value: -49.18828879781421.\n",
      "100%|██████████| 58823/58823 [00:41<00:00, 1401.98it/s]\n",
      "[I 2024-11-08 17:47:12,370] Trial 4 finished with value: -83.81135928961749 and parameters: {'mfi_period': 18, 'mfi_upper': 62, 'mfi_lower': 13, 'roc_period': 9, 'ma_short': 20, 'ma_long': 44, 'atr_period': 15, 'atr_multiplier': 2.8306057850251944}. Best is trial 1 with value: -49.18828879781421.\n",
      "100%|██████████| 58823/58823 [00:41<00:00, 1402.15it/s]\n",
      "[I 2024-11-08 17:47:56,393] Trial 5 finished with value: -134.88469071038253 and parameters: {'mfi_period': 15, 'mfi_upper': 66, 'mfi_lower': 30, 'roc_period': 10, 'ma_short': 18, 'ma_long': 49, 'atr_period': 15, 'atr_multiplier': 2.473915443972668}. Best is trial 1 with value: -49.18828879781421.\n",
      "100%|██████████| 58823/58823 [00:41<00:00, 1416.59it/s]\n",
      "[I 2024-11-08 17:48:39,983] Trial 6 finished with value: -4.122203005464485 and parameters: {'mfi_period': 15, 'mfi_upper': 67, 'mfi_lower': 16, 'roc_period': 10, 'ma_short': 15, 'ma_long': 40, 'atr_period': 14, 'atr_multiplier': 1.696440307468801}. Best is trial 6 with value: -4.122203005464485.\n",
      "100%|██████████| 58823/58823 [00:42<00:00, 1391.05it/s]\n",
      "[W 2024-11-08 17:49:24,243] Trial 7 failed with parameters: {'mfi_period': 15, 'mfi_upper': 79, 'mfi_lower': 14, 'roc_period': 15, 'ma_short': 22, 'ma_long': 47, 'atr_period': 14, 'atr_multiplier': 2.0715096953209553} because of the following error: IndexError('single positional indexer is out-of-bounds').\n",
      "Traceback (most recent call last):\n",
      "  File \"c:\\Users\\Anhnh\\.conda\\envs\\ml\\Lib\\site-packages\\optuna\\study\\_optimize.py\", line 197, in _run_trial\n",
      "    value_or_values = func(trial)\n",
      "                      ^^^^^^^^^^^\n",
      "  File \"c:\\Users\\Anhnh\\Desktop\\TaiNgo\\Baseline\\experiments\\MFI_advanced_exp\\../../..\\Baseline\\forward_searcher.py\", line 116, in <lambda>\n",
      "    lambda trial: self._objective(trial, train_data),\n",
      "                  ^^^^^^^^^^^^^^^^^^^^^^^^^^^^^^^^^^\n",
      "  File \"c:\\Users\\Anhnh\\Desktop\\TaiNgo\\Baseline\\experiments\\MFI_advanced_exp\\../../..\\Baseline\\forward_searcher.py\", line 89, in _objective\n",
      "    backtest_info = model.backtest(plot=False)\n",
      "                    ^^^^^^^^^^^^^^^^^^^^^^^^^^\n",
      "  File \"c:\\Users\\Anhnh\\Desktop\\TaiNgo\\Baseline\\experiments\\MFI_advanced_exp\\../../..\\Baseline\\baseline.py\", line 102, in backtest\n",
      "    backtestInfo = BacktestInformation(df['Date'], df['position'], df['Close'], fee=0.3)\n",
      "                   ^^^^^^^^^^^^^^^^^^^^^^^^^^^^^^^^^^^^^^^^^^^^^^^^^^^^^^^^^^^^^^^^^^^^^\n",
      "  File \"c:\\Users\\Anhnh\\Desktop\\TaiNgo\\Baseline\\experiments\\MFI_advanced_exp\\../../..\\Baseline\\utils\\F4.py\", line 663, in __init__\n",
      "    self.df_brief = HitRate(self.df)[0]\n",
      "                    ^^^^^^^^^^^^^^^^\n",
      "  File \"c:\\Users\\Anhnh\\Desktop\\TaiNgo\\Baseline\\experiments\\MFI_advanced_exp\\../../..\\Baseline\\utils\\F4.py\", line 396, in HitRate\n",
      "    test['total_gain'] = portfolio_pnl_future(test.signal_long, test.signal_short, test.Close)[0]\n",
      "                         ^^^^^^^^^^^^^^^^^^^^^^^^^^^^^^^^^^^^^^^^^^^^^^^^^^^^^^^^^^^^^^^^^^^^^\n",
      "  File \"c:\\Users\\Anhnh\\Desktop\\TaiNgo\\Baseline\\experiments\\MFI_advanced_exp\\../../..\\Baseline\\utils\\F4.py\", line 336, in portfolio_pnl_future\n",
      "    intitial_capital_long = (position_long.iloc[0])*(Close.iloc[0])\n",
      "                             ~~~~~~~~~~~~~~~~~~^^^\n",
      "  File \"c:\\Users\\Anhnh\\.conda\\envs\\ml\\Lib\\site-packages\\pandas\\core\\indexing.py\", line 1191, in __getitem__\n",
      "    return self._getitem_axis(maybe_callable, axis=axis)\n",
      "           ^^^^^^^^^^^^^^^^^^^^^^^^^^^^^^^^^^^^^^^^^^^^^\n",
      "  File \"c:\\Users\\Anhnh\\.conda\\envs\\ml\\Lib\\site-packages\\pandas\\core\\indexing.py\", line 1752, in _getitem_axis\n",
      "    self._validate_integer(key, axis)\n",
      "  File \"c:\\Users\\Anhnh\\.conda\\envs\\ml\\Lib\\site-packages\\pandas\\core\\indexing.py\", line 1685, in _validate_integer\n",
      "    raise IndexError(\"single positional indexer is out-of-bounds\")\n",
      "IndexError: single positional indexer is out-of-bounds\n",
      "[W 2024-11-08 17:49:24,279] Trial 7 failed with value None.\n"
     ]
    },
    {
     "ename": "IndexError",
     "evalue": "single positional indexer is out-of-bounds",
     "output_type": "error",
     "traceback": [
      "\u001b[1;31m---------------------------------------------------------------------------\u001b[0m",
      "\u001b[1;31mIndexError\u001b[0m                                Traceback (most recent call last)",
      "Cell \u001b[1;32mIn[2], line 37\u001b[0m\n\u001b[0;32m     25\u001b[0m \u001b[38;5;66;03m# Create and run walk-forward optimization\u001b[39;00m\n\u001b[0;32m     26\u001b[0m searcher \u001b[38;5;241m=\u001b[39m WalkForwardSearcher(\n\u001b[0;32m     27\u001b[0m     stock_csv_path\u001b[38;5;241m=\u001b[39m\u001b[38;5;124m'\u001b[39m\u001b[38;5;124m../../data/data1mins.csv\u001b[39m\u001b[38;5;124m'\u001b[39m,\n\u001b[0;32m     28\u001b[0m     exp_path\u001b[38;5;241m=\u001b[39m\u001b[38;5;124m'\u001b[39m\u001b[38;5;124m../../data/expiration_date.csv\u001b[39m\u001b[38;5;124m'\u001b[39m,\n\u001b[1;32m   (...)\u001b[0m\n\u001b[0;32m     34\u001b[0m     n_trials\u001b[38;5;241m=\u001b[39m\u001b[38;5;241m50\u001b[39m\n\u001b[0;32m     35\u001b[0m )\n\u001b[1;32m---> 37\u001b[0m results \u001b[38;5;241m=\u001b[39m \u001b[43msearcher\u001b[49m\u001b[38;5;241;43m.\u001b[39;49m\u001b[43moptimize\u001b[49m\u001b[43m(\u001b[49m\u001b[43m)\u001b[49m\n\u001b[0;32m     39\u001b[0m \u001b[38;5;66;03m# Print analysis\u001b[39;00m\n\u001b[0;32m     40\u001b[0m \u001b[38;5;28mprint\u001b[39m(\u001b[38;5;124m\"\u001b[39m\u001b[38;5;130;01m\\n\u001b[39;00m\u001b[38;5;124mParameter Stability:\u001b[39m\u001b[38;5;124m\"\u001b[39m)\n",
      "File \u001b[1;32mc:\\Users\\Anhnh\\Desktop\\TaiNgo\\Baseline\\experiments\\MFI_advanced_exp\\../../..\\Baseline\\forward_searcher.py:115\u001b[0m, in \u001b[0;36mWalkForwardSearcher.optimize\u001b[1;34m(self)\u001b[0m\n\u001b[0;32m    113\u001b[0m \u001b[38;5;66;03m# Create and run optimizer\u001b[39;00m\n\u001b[0;32m    114\u001b[0m study \u001b[38;5;241m=\u001b[39m optuna\u001b[38;5;241m.\u001b[39mcreate_study(direction\u001b[38;5;241m=\u001b[39m\u001b[38;5;124m\"\u001b[39m\u001b[38;5;124mmaximize\u001b[39m\u001b[38;5;124m\"\u001b[39m)\n\u001b[1;32m--> 115\u001b[0m \u001b[43mstudy\u001b[49m\u001b[38;5;241;43m.\u001b[39;49m\u001b[43moptimize\u001b[49m\u001b[43m(\u001b[49m\n\u001b[0;32m    116\u001b[0m \u001b[43m    \u001b[49m\u001b[38;5;28;43;01mlambda\u001b[39;49;00m\u001b[43m \u001b[49m\u001b[43mtrial\u001b[49m\u001b[43m:\u001b[49m\u001b[43m \u001b[49m\u001b[38;5;28;43mself\u001b[39;49m\u001b[38;5;241;43m.\u001b[39;49m\u001b[43m_objective\u001b[49m\u001b[43m(\u001b[49m\u001b[43mtrial\u001b[49m\u001b[43m,\u001b[49m\u001b[43m \u001b[49m\u001b[43mtrain_data\u001b[49m\u001b[43m)\u001b[49m\u001b[43m,\u001b[49m\n\u001b[0;32m    117\u001b[0m \u001b[43m    \u001b[49m\u001b[43mn_trials\u001b[49m\u001b[38;5;241;43m=\u001b[39;49m\u001b[38;5;28;43mself\u001b[39;49m\u001b[38;5;241;43m.\u001b[39;49m\u001b[43mn_trials\u001b[49m\n\u001b[0;32m    118\u001b[0m \u001b[43m\u001b[49m\u001b[43m)\u001b[49m\n\u001b[0;32m    120\u001b[0m \u001b[38;5;66;03m# Test best parameters on test window\u001b[39;00m\n\u001b[0;32m    121\u001b[0m best_params \u001b[38;5;241m=\u001b[39m study\u001b[38;5;241m.\u001b[39mbest_params\n",
      "File \u001b[1;32mc:\\Users\\Anhnh\\.conda\\envs\\ml\\Lib\\site-packages\\optuna\\study\\study.py:475\u001b[0m, in \u001b[0;36mStudy.optimize\u001b[1;34m(self, func, n_trials, timeout, n_jobs, catch, callbacks, gc_after_trial, show_progress_bar)\u001b[0m\n\u001b[0;32m    373\u001b[0m \u001b[38;5;28;01mdef\u001b[39;00m \u001b[38;5;21moptimize\u001b[39m(\n\u001b[0;32m    374\u001b[0m     \u001b[38;5;28mself\u001b[39m,\n\u001b[0;32m    375\u001b[0m     func: ObjectiveFuncType,\n\u001b[1;32m   (...)\u001b[0m\n\u001b[0;32m    382\u001b[0m     show_progress_bar: \u001b[38;5;28mbool\u001b[39m \u001b[38;5;241m=\u001b[39m \u001b[38;5;28;01mFalse\u001b[39;00m,\n\u001b[0;32m    383\u001b[0m ) \u001b[38;5;241m-\u001b[39m\u001b[38;5;241m>\u001b[39m \u001b[38;5;28;01mNone\u001b[39;00m:\n\u001b[0;32m    384\u001b[0m \u001b[38;5;250m    \u001b[39m\u001b[38;5;124;03m\"\"\"Optimize an objective function.\u001b[39;00m\n\u001b[0;32m    385\u001b[0m \n\u001b[0;32m    386\u001b[0m \u001b[38;5;124;03m    Optimization is done by choosing a suitable set of hyperparameter values from a given\u001b[39;00m\n\u001b[1;32m   (...)\u001b[0m\n\u001b[0;32m    473\u001b[0m \u001b[38;5;124;03m            If nested invocation of this method occurs.\u001b[39;00m\n\u001b[0;32m    474\u001b[0m \u001b[38;5;124;03m    \"\"\"\u001b[39;00m\n\u001b[1;32m--> 475\u001b[0m     \u001b[43m_optimize\u001b[49m\u001b[43m(\u001b[49m\n\u001b[0;32m    476\u001b[0m \u001b[43m        \u001b[49m\u001b[43mstudy\u001b[49m\u001b[38;5;241;43m=\u001b[39;49m\u001b[38;5;28;43mself\u001b[39;49m\u001b[43m,\u001b[49m\n\u001b[0;32m    477\u001b[0m \u001b[43m        \u001b[49m\u001b[43mfunc\u001b[49m\u001b[38;5;241;43m=\u001b[39;49m\u001b[43mfunc\u001b[49m\u001b[43m,\u001b[49m\n\u001b[0;32m    478\u001b[0m \u001b[43m        \u001b[49m\u001b[43mn_trials\u001b[49m\u001b[38;5;241;43m=\u001b[39;49m\u001b[43mn_trials\u001b[49m\u001b[43m,\u001b[49m\n\u001b[0;32m    479\u001b[0m \u001b[43m        \u001b[49m\u001b[43mtimeout\u001b[49m\u001b[38;5;241;43m=\u001b[39;49m\u001b[43mtimeout\u001b[49m\u001b[43m,\u001b[49m\n\u001b[0;32m    480\u001b[0m \u001b[43m        \u001b[49m\u001b[43mn_jobs\u001b[49m\u001b[38;5;241;43m=\u001b[39;49m\u001b[43mn_jobs\u001b[49m\u001b[43m,\u001b[49m\n\u001b[0;32m    481\u001b[0m \u001b[43m        \u001b[49m\u001b[43mcatch\u001b[49m\u001b[38;5;241;43m=\u001b[39;49m\u001b[38;5;28;43mtuple\u001b[39;49m\u001b[43m(\u001b[49m\u001b[43mcatch\u001b[49m\u001b[43m)\u001b[49m\u001b[43m \u001b[49m\u001b[38;5;28;43;01mif\u001b[39;49;00m\u001b[43m \u001b[49m\u001b[38;5;28;43misinstance\u001b[39;49m\u001b[43m(\u001b[49m\u001b[43mcatch\u001b[49m\u001b[43m,\u001b[49m\u001b[43m \u001b[49m\u001b[43mIterable\u001b[49m\u001b[43m)\u001b[49m\u001b[43m \u001b[49m\u001b[38;5;28;43;01melse\u001b[39;49;00m\u001b[43m \u001b[49m\u001b[43m(\u001b[49m\u001b[43mcatch\u001b[49m\u001b[43m,\u001b[49m\u001b[43m)\u001b[49m\u001b[43m,\u001b[49m\n\u001b[0;32m    482\u001b[0m \u001b[43m        \u001b[49m\u001b[43mcallbacks\u001b[49m\u001b[38;5;241;43m=\u001b[39;49m\u001b[43mcallbacks\u001b[49m\u001b[43m,\u001b[49m\n\u001b[0;32m    483\u001b[0m \u001b[43m        \u001b[49m\u001b[43mgc_after_trial\u001b[49m\u001b[38;5;241;43m=\u001b[39;49m\u001b[43mgc_after_trial\u001b[49m\u001b[43m,\u001b[49m\n\u001b[0;32m    484\u001b[0m \u001b[43m        \u001b[49m\u001b[43mshow_progress_bar\u001b[49m\u001b[38;5;241;43m=\u001b[39;49m\u001b[43mshow_progress_bar\u001b[49m\u001b[43m,\u001b[49m\n\u001b[0;32m    485\u001b[0m \u001b[43m    \u001b[49m\u001b[43m)\u001b[49m\n",
      "File \u001b[1;32mc:\\Users\\Anhnh\\.conda\\envs\\ml\\Lib\\site-packages\\optuna\\study\\_optimize.py:63\u001b[0m, in \u001b[0;36m_optimize\u001b[1;34m(study, func, n_trials, timeout, n_jobs, catch, callbacks, gc_after_trial, show_progress_bar)\u001b[0m\n\u001b[0;32m     61\u001b[0m \u001b[38;5;28;01mtry\u001b[39;00m:\n\u001b[0;32m     62\u001b[0m     \u001b[38;5;28;01mif\u001b[39;00m n_jobs \u001b[38;5;241m==\u001b[39m \u001b[38;5;241m1\u001b[39m:\n\u001b[1;32m---> 63\u001b[0m         \u001b[43m_optimize_sequential\u001b[49m\u001b[43m(\u001b[49m\n\u001b[0;32m     64\u001b[0m \u001b[43m            \u001b[49m\u001b[43mstudy\u001b[49m\u001b[43m,\u001b[49m\n\u001b[0;32m     65\u001b[0m \u001b[43m            \u001b[49m\u001b[43mfunc\u001b[49m\u001b[43m,\u001b[49m\n\u001b[0;32m     66\u001b[0m \u001b[43m            \u001b[49m\u001b[43mn_trials\u001b[49m\u001b[43m,\u001b[49m\n\u001b[0;32m     67\u001b[0m \u001b[43m            \u001b[49m\u001b[43mtimeout\u001b[49m\u001b[43m,\u001b[49m\n\u001b[0;32m     68\u001b[0m \u001b[43m            \u001b[49m\u001b[43mcatch\u001b[49m\u001b[43m,\u001b[49m\n\u001b[0;32m     69\u001b[0m \u001b[43m            \u001b[49m\u001b[43mcallbacks\u001b[49m\u001b[43m,\u001b[49m\n\u001b[0;32m     70\u001b[0m \u001b[43m            \u001b[49m\u001b[43mgc_after_trial\u001b[49m\u001b[43m,\u001b[49m\n\u001b[0;32m     71\u001b[0m \u001b[43m            \u001b[49m\u001b[43mreseed_sampler_rng\u001b[49m\u001b[38;5;241;43m=\u001b[39;49m\u001b[38;5;28;43;01mFalse\u001b[39;49;00m\u001b[43m,\u001b[49m\n\u001b[0;32m     72\u001b[0m \u001b[43m            \u001b[49m\u001b[43mtime_start\u001b[49m\u001b[38;5;241;43m=\u001b[39;49m\u001b[38;5;28;43;01mNone\u001b[39;49;00m\u001b[43m,\u001b[49m\n\u001b[0;32m     73\u001b[0m \u001b[43m            \u001b[49m\u001b[43mprogress_bar\u001b[49m\u001b[38;5;241;43m=\u001b[39;49m\u001b[43mprogress_bar\u001b[49m\u001b[43m,\u001b[49m\n\u001b[0;32m     74\u001b[0m \u001b[43m        \u001b[49m\u001b[43m)\u001b[49m\n\u001b[0;32m     75\u001b[0m     \u001b[38;5;28;01melse\u001b[39;00m:\n\u001b[0;32m     76\u001b[0m         \u001b[38;5;28;01mif\u001b[39;00m n_jobs \u001b[38;5;241m==\u001b[39m \u001b[38;5;241m-\u001b[39m\u001b[38;5;241m1\u001b[39m:\n",
      "File \u001b[1;32mc:\\Users\\Anhnh\\.conda\\envs\\ml\\Lib\\site-packages\\optuna\\study\\_optimize.py:160\u001b[0m, in \u001b[0;36m_optimize_sequential\u001b[1;34m(study, func, n_trials, timeout, catch, callbacks, gc_after_trial, reseed_sampler_rng, time_start, progress_bar)\u001b[0m\n\u001b[0;32m    157\u001b[0m         \u001b[38;5;28;01mbreak\u001b[39;00m\n\u001b[0;32m    159\u001b[0m \u001b[38;5;28;01mtry\u001b[39;00m:\n\u001b[1;32m--> 160\u001b[0m     frozen_trial \u001b[38;5;241m=\u001b[39m \u001b[43m_run_trial\u001b[49m\u001b[43m(\u001b[49m\u001b[43mstudy\u001b[49m\u001b[43m,\u001b[49m\u001b[43m \u001b[49m\u001b[43mfunc\u001b[49m\u001b[43m,\u001b[49m\u001b[43m \u001b[49m\u001b[43mcatch\u001b[49m\u001b[43m)\u001b[49m\n\u001b[0;32m    161\u001b[0m \u001b[38;5;28;01mfinally\u001b[39;00m:\n\u001b[0;32m    162\u001b[0m     \u001b[38;5;66;03m# The following line mitigates memory problems that can be occurred in some\u001b[39;00m\n\u001b[0;32m    163\u001b[0m     \u001b[38;5;66;03m# environments (e.g., services that use computing containers such as GitHub Actions).\u001b[39;00m\n\u001b[0;32m    164\u001b[0m     \u001b[38;5;66;03m# Please refer to the following PR for further details:\u001b[39;00m\n\u001b[0;32m    165\u001b[0m     \u001b[38;5;66;03m# https://github.com/optuna/optuna/pull/325.\u001b[39;00m\n\u001b[0;32m    166\u001b[0m     \u001b[38;5;28;01mif\u001b[39;00m gc_after_trial:\n",
      "File \u001b[1;32mc:\\Users\\Anhnh\\.conda\\envs\\ml\\Lib\\site-packages\\optuna\\study\\_optimize.py:248\u001b[0m, in \u001b[0;36m_run_trial\u001b[1;34m(study, func, catch)\u001b[0m\n\u001b[0;32m    241\u001b[0m         \u001b[38;5;28;01massert\u001b[39;00m \u001b[38;5;28;01mFalse\u001b[39;00m, \u001b[38;5;124m\"\u001b[39m\u001b[38;5;124mShould not reach.\u001b[39m\u001b[38;5;124m\"\u001b[39m\n\u001b[0;32m    243\u001b[0m \u001b[38;5;28;01mif\u001b[39;00m (\n\u001b[0;32m    244\u001b[0m     frozen_trial\u001b[38;5;241m.\u001b[39mstate \u001b[38;5;241m==\u001b[39m TrialState\u001b[38;5;241m.\u001b[39mFAIL\n\u001b[0;32m    245\u001b[0m     \u001b[38;5;129;01mand\u001b[39;00m func_err \u001b[38;5;129;01mis\u001b[39;00m \u001b[38;5;129;01mnot\u001b[39;00m \u001b[38;5;28;01mNone\u001b[39;00m\n\u001b[0;32m    246\u001b[0m     \u001b[38;5;129;01mand\u001b[39;00m \u001b[38;5;129;01mnot\u001b[39;00m \u001b[38;5;28misinstance\u001b[39m(func_err, catch)\n\u001b[0;32m    247\u001b[0m ):\n\u001b[1;32m--> 248\u001b[0m     \u001b[38;5;28;01mraise\u001b[39;00m func_err\n\u001b[0;32m    249\u001b[0m \u001b[38;5;28;01mreturn\u001b[39;00m frozen_trial\n",
      "File \u001b[1;32mc:\\Users\\Anhnh\\.conda\\envs\\ml\\Lib\\site-packages\\optuna\\study\\_optimize.py:197\u001b[0m, in \u001b[0;36m_run_trial\u001b[1;34m(study, func, catch)\u001b[0m\n\u001b[0;32m    195\u001b[0m \u001b[38;5;28;01mwith\u001b[39;00m get_heartbeat_thread(trial\u001b[38;5;241m.\u001b[39m_trial_id, study\u001b[38;5;241m.\u001b[39m_storage):\n\u001b[0;32m    196\u001b[0m     \u001b[38;5;28;01mtry\u001b[39;00m:\n\u001b[1;32m--> 197\u001b[0m         value_or_values \u001b[38;5;241m=\u001b[39m \u001b[43mfunc\u001b[49m\u001b[43m(\u001b[49m\u001b[43mtrial\u001b[49m\u001b[43m)\u001b[49m\n\u001b[0;32m    198\u001b[0m     \u001b[38;5;28;01mexcept\u001b[39;00m exceptions\u001b[38;5;241m.\u001b[39mTrialPruned \u001b[38;5;28;01mas\u001b[39;00m e:\n\u001b[0;32m    199\u001b[0m         \u001b[38;5;66;03m# TODO(mamu): Handle multi-objective cases.\u001b[39;00m\n\u001b[0;32m    200\u001b[0m         state \u001b[38;5;241m=\u001b[39m TrialState\u001b[38;5;241m.\u001b[39mPRUNED\n",
      "File \u001b[1;32mc:\\Users\\Anhnh\\Desktop\\TaiNgo\\Baseline\\experiments\\MFI_advanced_exp\\../../..\\Baseline\\forward_searcher.py:116\u001b[0m, in \u001b[0;36mWalkForwardSearcher.optimize.<locals>.<lambda>\u001b[1;34m(trial)\u001b[0m\n\u001b[0;32m    113\u001b[0m \u001b[38;5;66;03m# Create and run optimizer\u001b[39;00m\n\u001b[0;32m    114\u001b[0m study \u001b[38;5;241m=\u001b[39m optuna\u001b[38;5;241m.\u001b[39mcreate_study(direction\u001b[38;5;241m=\u001b[39m\u001b[38;5;124m\"\u001b[39m\u001b[38;5;124mmaximize\u001b[39m\u001b[38;5;124m\"\u001b[39m)\n\u001b[0;32m    115\u001b[0m study\u001b[38;5;241m.\u001b[39moptimize(\n\u001b[1;32m--> 116\u001b[0m     \u001b[38;5;28;01mlambda\u001b[39;00m trial: \u001b[38;5;28;43mself\u001b[39;49m\u001b[38;5;241;43m.\u001b[39;49m\u001b[43m_objective\u001b[49m\u001b[43m(\u001b[49m\u001b[43mtrial\u001b[49m\u001b[43m,\u001b[49m\u001b[43m \u001b[49m\u001b[43mtrain_data\u001b[49m\u001b[43m)\u001b[49m,\n\u001b[0;32m    117\u001b[0m     n_trials\u001b[38;5;241m=\u001b[39m\u001b[38;5;28mself\u001b[39m\u001b[38;5;241m.\u001b[39mn_trials\n\u001b[0;32m    118\u001b[0m )\n\u001b[0;32m    120\u001b[0m \u001b[38;5;66;03m# Test best parameters on test window\u001b[39;00m\n\u001b[0;32m    121\u001b[0m best_params \u001b[38;5;241m=\u001b[39m study\u001b[38;5;241m.\u001b[39mbest_params\n",
      "File \u001b[1;32mc:\\Users\\Anhnh\\Desktop\\TaiNgo\\Baseline\\experiments\\MFI_advanced_exp\\../../..\\Baseline\\forward_searcher.py:89\u001b[0m, in \u001b[0;36mWalkForwardSearcher._objective\u001b[1;34m(self, trial, train_data)\u001b[0m\n\u001b[0;32m     82\u001b[0m model \u001b[38;5;241m=\u001b[39m \u001b[38;5;28mself\u001b[39m\u001b[38;5;241m.\u001b[39mAlpha(\n\u001b[0;32m     83\u001b[0m     stock_data\u001b[38;5;241m=\u001b[39mtrain_data,\n\u001b[0;32m     84\u001b[0m     expiration_date\u001b[38;5;241m=\u001b[39m\u001b[38;5;28mself\u001b[39m\u001b[38;5;241m.\u001b[39mexpiration_date,\n\u001b[0;32m     85\u001b[0m     \u001b[38;5;241m*\u001b[39m\u001b[38;5;241m*\u001b[39mparams\n\u001b[0;32m     86\u001b[0m )\n\u001b[0;32m     88\u001b[0m \u001b[38;5;66;03m# Run backtest\u001b[39;00m\n\u001b[1;32m---> 89\u001b[0m backtest_info \u001b[38;5;241m=\u001b[39m \u001b[43mmodel\u001b[49m\u001b[38;5;241;43m.\u001b[39;49m\u001b[43mbacktest\u001b[49m\u001b[43m(\u001b[49m\u001b[43mplot\u001b[49m\u001b[38;5;241;43m=\u001b[39;49m\u001b[38;5;28;43;01mFalse\u001b[39;49;00m\u001b[43m)\u001b[49m\n\u001b[0;32m     90\u001b[0m \u001b[38;5;66;03m# If backtest_info is tuple, take first element\u001b[39;00m\n\u001b[0;32m     91\u001b[0m \u001b[38;5;28;01mif\u001b[39;00m \u001b[38;5;28misinstance\u001b[39m(backtest_info, \u001b[38;5;28mtuple\u001b[39m):\n",
      "File \u001b[1;32mc:\\Users\\Anhnh\\Desktop\\TaiNgo\\Baseline\\experiments\\MFI_advanced_exp\\../../..\\Baseline\\baseline.py:102\u001b[0m, in \u001b[0;36mBaseAlpha.backtest\u001b[1;34m(self, plot)\u001b[0m\n\u001b[0;32m    100\u001b[0m \u001b[38;5;250m\u001b[39m\u001b[38;5;124;03m\"\"\"Run backtest on the strategy\"\"\"\u001b[39;00m\n\u001b[0;32m    101\u001b[0m df \u001b[38;5;241m=\u001b[39m \u001b[38;5;28mself\u001b[39m\u001b[38;5;241m.\u001b[39mcalculate_signals()\n\u001b[1;32m--> 102\u001b[0m backtestInfo \u001b[38;5;241m=\u001b[39m \u001b[43mBacktestInformation\u001b[49m\u001b[43m(\u001b[49m\u001b[43mdf\u001b[49m\u001b[43m[\u001b[49m\u001b[38;5;124;43m'\u001b[39;49m\u001b[38;5;124;43mDate\u001b[39;49m\u001b[38;5;124;43m'\u001b[39;49m\u001b[43m]\u001b[49m\u001b[43m,\u001b[49m\u001b[43m \u001b[49m\u001b[43mdf\u001b[49m\u001b[43m[\u001b[49m\u001b[38;5;124;43m'\u001b[39;49m\u001b[38;5;124;43mposition\u001b[39;49m\u001b[38;5;124;43m'\u001b[39;49m\u001b[43m]\u001b[49m\u001b[43m,\u001b[49m\u001b[43m \u001b[49m\u001b[43mdf\u001b[49m\u001b[43m[\u001b[49m\u001b[38;5;124;43m'\u001b[39;49m\u001b[38;5;124;43mClose\u001b[39;49m\u001b[38;5;124;43m'\u001b[39;49m\u001b[43m]\u001b[49m\u001b[43m,\u001b[49m\u001b[43m \u001b[49m\u001b[43mfee\u001b[49m\u001b[38;5;241;43m=\u001b[39;49m\u001b[38;5;241;43m0.3\u001b[39;49m\u001b[43m)\u001b[49m\n\u001b[0;32m    104\u001b[0m \u001b[38;5;28;01mif\u001b[39;00m plot:\n\u001b[0;32m    105\u001b[0m     res \u001b[38;5;241m=\u001b[39m backtestInfo\u001b[38;5;241m.\u001b[39mPlot_PNL()\n",
      "File \u001b[1;32mc:\\Users\\Anhnh\\Desktop\\TaiNgo\\Baseline\\experiments\\MFI_advanced_exp\\../../..\\Baseline\\utils\\F4.py:663\u001b[0m, in \u001b[0;36mBacktestInformation.__init__\u001b[1;34m(self, Datetime, Position, Close, fee)\u001b[0m\n\u001b[0;32m    661\u001b[0m \u001b[38;5;28mself\u001b[39m\u001b[38;5;241m.\u001b[39mhold_overnight \u001b[38;5;241m=\u001b[39m \u001b[38;5;129;01mnot\u001b[39;00m (\u001b[38;5;28mself\u001b[39m\u001b[38;5;241m.\u001b[39mdf\u001b[38;5;241m.\u001b[39mresample(\u001b[38;5;124m'\u001b[39m\u001b[38;5;124mD\u001b[39m\u001b[38;5;124m'\u001b[39m)\u001b[38;5;241m.\u001b[39mlast()\u001b[38;5;241m.\u001b[39mdropna()[\u001b[38;5;124m'\u001b[39m\u001b[38;5;124mPosition\u001b[39m\u001b[38;5;124m'\u001b[39m] \u001b[38;5;241m==\u001b[39m \u001b[38;5;241m0\u001b[39m)\u001b[38;5;241m.\u001b[39mall()\n\u001b[0;32m    662\u001b[0m \u001b[38;5;28mself\u001b[39m\u001b[38;5;241m.\u001b[39mdf\u001b[38;5;241m.\u001b[39mindex \u001b[38;5;241m=\u001b[39m pd\u001b[38;5;241m.\u001b[39mto_datetime(\u001b[38;5;28mself\u001b[39m\u001b[38;5;241m.\u001b[39mdf\u001b[38;5;241m.\u001b[39mindex)\n\u001b[1;32m--> 663\u001b[0m \u001b[38;5;28mself\u001b[39m\u001b[38;5;241m.\u001b[39mdf_brief \u001b[38;5;241m=\u001b[39m \u001b[43mHitRate\u001b[49m\u001b[43m(\u001b[49m\u001b[38;5;28;43mself\u001b[39;49m\u001b[38;5;241;43m.\u001b[39;49m\u001b[43mdf\u001b[49m\u001b[43m)\u001b[49m[\u001b[38;5;241m0\u001b[39m]\n\u001b[0;32m    664\u001b[0m \u001b[38;5;28mself\u001b[39m\u001b[38;5;241m.\u001b[39mfee \u001b[38;5;241m=\u001b[39m fee \u001b[38;5;241m+\u001b[39m \u001b[38;5;241m0.3\u001b[39m\u001b[38;5;241m*\u001b[39m\u001b[38;5;28mself\u001b[39m\u001b[38;5;241m.\u001b[39mTrading_per_day()\n",
      "File \u001b[1;32mc:\\Users\\Anhnh\\Desktop\\TaiNgo\\Baseline\\experiments\\MFI_advanced_exp\\../../..\\Baseline\\utils\\F4.py:396\u001b[0m, in \u001b[0;36mHitRate\u001b[1;34m(test)\u001b[0m\n\u001b[0;32m    394\u001b[0m test \u001b[38;5;241m=\u001b[39m Margin(test)[\u001b[38;5;241m0\u001b[39m]\n\u001b[0;32m    395\u001b[0m test \u001b[38;5;241m=\u001b[39m test[(test\u001b[38;5;241m.\u001b[39moutLong \u001b[38;5;241m>\u001b[39m \u001b[38;5;241m0\u001b[39m) \u001b[38;5;241m|\u001b[39m (test\u001b[38;5;241m.\u001b[39moutShort \u001b[38;5;241m>\u001b[39m \u001b[38;5;241m0\u001b[39m) \u001b[38;5;241m|\u001b[39m (test\u001b[38;5;241m.\u001b[39minLong \u001b[38;5;241m>\u001b[39m \u001b[38;5;241m0\u001b[39m) \u001b[38;5;241m|\u001b[39m (test\u001b[38;5;241m.\u001b[39minShort \u001b[38;5;241m>\u001b[39m \u001b[38;5;241m0\u001b[39m)]\n\u001b[1;32m--> 396\u001b[0m test[\u001b[38;5;124m'\u001b[39m\u001b[38;5;124mtotal_gain\u001b[39m\u001b[38;5;124m'\u001b[39m] \u001b[38;5;241m=\u001b[39m \u001b[43mportfolio_pnl_future\u001b[49m\u001b[43m(\u001b[49m\u001b[43mtest\u001b[49m\u001b[38;5;241;43m.\u001b[39;49m\u001b[43msignal_long\u001b[49m\u001b[43m,\u001b[49m\u001b[43m \u001b[49m\u001b[43mtest\u001b[49m\u001b[38;5;241;43m.\u001b[39;49m\u001b[43msignal_short\u001b[49m\u001b[43m,\u001b[49m\u001b[43m \u001b[49m\u001b[43mtest\u001b[49m\u001b[38;5;241;43m.\u001b[39;49m\u001b[43mClose\u001b[49m\u001b[43m)\u001b[49m[\u001b[38;5;241m0\u001b[39m]\n\u001b[0;32m    397\u001b[0m test\u001b[38;5;241m.\u001b[39mfillna(\u001b[38;5;241m0\u001b[39m, inplace\u001b[38;5;241m=\u001b[39m\u001b[38;5;28;01mTrue\u001b[39;00m)\n\u001b[0;32m    398\u001b[0m test[\u001b[38;5;124m'\u001b[39m\u001b[38;5;124mgain\u001b[39m\u001b[38;5;124m'\u001b[39m] \u001b[38;5;241m=\u001b[39m test\u001b[38;5;241m.\u001b[39mtotal_gain\u001b[38;5;241m.\u001b[39mdiff()\n",
      "File \u001b[1;32mc:\\Users\\Anhnh\\Desktop\\TaiNgo\\Baseline\\experiments\\MFI_advanced_exp\\../../..\\Baseline\\utils\\F4.py:336\u001b[0m, in \u001b[0;36mportfolio_pnl_future\u001b[1;34m(position_long, position_short, Close)\u001b[0m\n\u001b[0;32m    332\u001b[0m \u001b[38;5;28;01mdef\u001b[39;00m \u001b[38;5;21mportfolio_pnl_future\u001b[39m(position_long, position_short, Close):\n\u001b[0;32m    333\u001b[0m \u001b[38;5;250m    \u001b[39m\u001b[38;5;124;03m''' tính PNL của một chiến thuật \u001b[39;00m\n\u001b[0;32m    334\u001b[0m \u001b[38;5;124;03m    position_long: series position long\u001b[39;00m\n\u001b[0;32m    335\u001b[0m \u001b[38;5;124;03m    position_short: series position short'''\u001b[39;00m\n\u001b[1;32m--> 336\u001b[0m     intitial_capital_long \u001b[38;5;241m=\u001b[39m (\u001b[43mposition_long\u001b[49m\u001b[38;5;241;43m.\u001b[39;49m\u001b[43miloc\u001b[49m\u001b[43m[\u001b[49m\u001b[38;5;241;43m0\u001b[39;49m\u001b[43m]\u001b[49m)\u001b[38;5;241m*\u001b[39m(Close\u001b[38;5;241m.\u001b[39miloc[\u001b[38;5;241m0\u001b[39m])\n\u001b[0;32m    337\u001b[0m     cash_long \u001b[38;5;241m=\u001b[39m (position_long\u001b[38;5;241m.\u001b[39mdiff(\u001b[38;5;241m1\u001b[39m)\u001b[38;5;241m*\u001b[39mClose)\n\u001b[0;32m    338\u001b[0m     cash_long[\u001b[38;5;241m0\u001b[39m] \u001b[38;5;241m=\u001b[39m intitial_capital_long\n",
      "File \u001b[1;32mc:\\Users\\Anhnh\\.conda\\envs\\ml\\Lib\\site-packages\\pandas\\core\\indexing.py:1191\u001b[0m, in \u001b[0;36m_LocationIndexer.__getitem__\u001b[1;34m(self, key)\u001b[0m\n\u001b[0;32m   1189\u001b[0m maybe_callable \u001b[38;5;241m=\u001b[39m com\u001b[38;5;241m.\u001b[39mapply_if_callable(key, \u001b[38;5;28mself\u001b[39m\u001b[38;5;241m.\u001b[39mobj)\n\u001b[0;32m   1190\u001b[0m maybe_callable \u001b[38;5;241m=\u001b[39m \u001b[38;5;28mself\u001b[39m\u001b[38;5;241m.\u001b[39m_check_deprecated_callable_usage(key, maybe_callable)\n\u001b[1;32m-> 1191\u001b[0m \u001b[38;5;28;01mreturn\u001b[39;00m \u001b[38;5;28;43mself\u001b[39;49m\u001b[38;5;241;43m.\u001b[39;49m\u001b[43m_getitem_axis\u001b[49m\u001b[43m(\u001b[49m\u001b[43mmaybe_callable\u001b[49m\u001b[43m,\u001b[49m\u001b[43m \u001b[49m\u001b[43maxis\u001b[49m\u001b[38;5;241;43m=\u001b[39;49m\u001b[43maxis\u001b[49m\u001b[43m)\u001b[49m\n",
      "File \u001b[1;32mc:\\Users\\Anhnh\\.conda\\envs\\ml\\Lib\\site-packages\\pandas\\core\\indexing.py:1752\u001b[0m, in \u001b[0;36m_iLocIndexer._getitem_axis\u001b[1;34m(self, key, axis)\u001b[0m\n\u001b[0;32m   1749\u001b[0m     \u001b[38;5;28;01mraise\u001b[39;00m \u001b[38;5;167;01mTypeError\u001b[39;00m(\u001b[38;5;124m\"\u001b[39m\u001b[38;5;124mCannot index by location index with a non-integer key\u001b[39m\u001b[38;5;124m\"\u001b[39m)\n\u001b[0;32m   1751\u001b[0m \u001b[38;5;66;03m# validate the location\u001b[39;00m\n\u001b[1;32m-> 1752\u001b[0m \u001b[38;5;28;43mself\u001b[39;49m\u001b[38;5;241;43m.\u001b[39;49m\u001b[43m_validate_integer\u001b[49m\u001b[43m(\u001b[49m\u001b[43mkey\u001b[49m\u001b[43m,\u001b[49m\u001b[43m \u001b[49m\u001b[43maxis\u001b[49m\u001b[43m)\u001b[49m\n\u001b[0;32m   1754\u001b[0m \u001b[38;5;28;01mreturn\u001b[39;00m \u001b[38;5;28mself\u001b[39m\u001b[38;5;241m.\u001b[39mobj\u001b[38;5;241m.\u001b[39m_ixs(key, axis\u001b[38;5;241m=\u001b[39maxis)\n",
      "File \u001b[1;32mc:\\Users\\Anhnh\\.conda\\envs\\ml\\Lib\\site-packages\\pandas\\core\\indexing.py:1685\u001b[0m, in \u001b[0;36m_iLocIndexer._validate_integer\u001b[1;34m(self, key, axis)\u001b[0m\n\u001b[0;32m   1683\u001b[0m len_axis \u001b[38;5;241m=\u001b[39m \u001b[38;5;28mlen\u001b[39m(\u001b[38;5;28mself\u001b[39m\u001b[38;5;241m.\u001b[39mobj\u001b[38;5;241m.\u001b[39m_get_axis(axis))\n\u001b[0;32m   1684\u001b[0m \u001b[38;5;28;01mif\u001b[39;00m key \u001b[38;5;241m>\u001b[39m\u001b[38;5;241m=\u001b[39m len_axis \u001b[38;5;129;01mor\u001b[39;00m key \u001b[38;5;241m<\u001b[39m \u001b[38;5;241m-\u001b[39mlen_axis:\n\u001b[1;32m-> 1685\u001b[0m     \u001b[38;5;28;01mraise\u001b[39;00m \u001b[38;5;167;01mIndexError\u001b[39;00m(\u001b[38;5;124m\"\u001b[39m\u001b[38;5;124msingle positional indexer is out-of-bounds\u001b[39m\u001b[38;5;124m\"\u001b[39m)\n",
      "\u001b[1;31mIndexError\u001b[0m: single positional indexer is out-of-bounds"
     ]
    }
   ],
   "source": [
    "def target(backtest_info):\n",
    "    # Handle both tuple and direct BacktestInformation object\n",
    "    if isinstance(backtest_info, tuple):\n",
    "        info = backtest_info[0]\n",
    "    else:\n",
    "        info = backtest_info\n",
    "        \n",
    "    profit_per_year = info.Profit_per_year()\n",
    "    mdd = info.MDD()[0]\n",
    "    sharp = info.Sharp_after_fee()\n",
    "    return profit_per_year * sharp - 0.5*mdd**2\n",
    "\n",
    "# Define parameter search space\n",
    "params = {\n",
    "    'mfi_period': [10, 20],\n",
    "    'mfi_upper': [50, 90],  # Ngưỡng MFI quá mua\n",
    "    'mfi_lower': [5, 30],  # Ngưỡng MFI quá bán\n",
    "    'roc_period': [5, 15],  # Chu kỳ ROC\n",
    "    'ma_short': [15, 25],\n",
    "    'ma_long': [40, 55],\n",
    "    'atr_period': [12, 16],\n",
    "    'atr_multiplier': [1.5, 3]\n",
    "}\n",
    "\n",
    "# Create and run walk-forward optimization\n",
    "searcher = WalkForwardSearcher(\n",
    "    stock_csv_path='../../data/data1mins.csv',\n",
    "    exp_path='../../data/expiration_date.csv',\n",
    "    Alpha=EnhancedMFIAlpha,\n",
    "    params=params,\n",
    "    target_metric=target,\n",
    "    train_window=pd.Timedelta(days=365),  # 1 year training\n",
    "    test_window=pd.Timedelta(days=180),   # 6 months testing\n",
    "    n_trials=50\n",
    ")\n",
    "\n",
    "results = searcher.optimize()\n",
    "\n",
    "# Print analysis\n",
    "print(\"\\nParameter Stability:\")\n",
    "for param, stats in results['parameter_stability'].items():\n",
    "    print(f\"\\n{param}:\")\n",
    "    for metric, value in stats.items():\n",
    "        print(f\"  {metric}: {value:.4f}\")\n",
    "\n",
    "print(\"\\nPerformance Stability:\")\n",
    "for metric, stats in results['performance_stability'].items():\n",
    "    print(f\"\\n{metric}:\")\n",
    "    print(f\"  mean: {stats['mean']:.4f}\")\n",
    "    print(f\"  std: {stats['std']:.4f}\")"
   ]
  }
 ],
 "metadata": {
  "kernelspec": {
   "display_name": "ml",
   "language": "python",
   "name": "python3"
  },
  "language_info": {
   "codemirror_mode": {
    "name": "ipython",
    "version": 3
   },
   "file_extension": ".py",
   "mimetype": "text/x-python",
   "name": "python",
   "nbconvert_exporter": "python",
   "pygments_lexer": "ipython3",
   "version": "3.12.7"
  }
 },
 "nbformat": 4,
 "nbformat_minor": 2
}
